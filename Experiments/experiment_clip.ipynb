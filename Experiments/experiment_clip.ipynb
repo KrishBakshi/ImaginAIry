{
 "cells": [
  {
   "cell_type": "code",
   "execution_count": 1,
   "id": "36f3da71-4a5d-4fbd-8d3f-6fdeb9c5fe37",
   "metadata": {},
   "outputs": [],
   "source": [
    "import torch\n",
    "import clip"
   ]
  },
  {
   "cell_type": "code",
   "execution_count": 2,
   "id": "30ba37fd-7ec9-4c8a-90ea-38e1c36c7af4",
   "metadata": {},
   "outputs": [
    {
     "name": "stderr",
     "output_type": "stream",
     "text": [
      "100%|████████████████████████████████████████| 338M/338M [06:36<00:00, 892kiB/s]\n"
     ]
    }
   ],
   "source": [
    "# Load CLIP model\n",
    "device = \"cuda\" if torch.cuda.is_available() else \"cpu\"\n",
    "model, preprocess = clip.load(\"ViT-B/32\", device=device)"
   ]
  },
  {
   "cell_type": "code",
   "execution_count": 3,
   "id": "5eb02384-b531-414c-9883-001862cee836",
   "metadata": {},
   "outputs": [],
   "source": [
    "# Define sampler descriptions based on content\n",
    "sampler_descriptions = {\n",
    "    \"DPM++ 2M Karras\": \"Portraits, faces, skin details, cinematic, soft lighting, expressions\",\n",
    "    \"DPM++ SDE Karras\": \"Photorealism, ultra-HD, realistic lighting, hyper-detailed textures\",\n",
    "    \"DPM++ 2M SDE Karras\": \"Extreme photorealism, hyper-detailed skin, deep shadows, cinematic depth\",\n",
    "    \"Euler\": \"Illustrations, sketches, balanced style, general rendering\",\n",
    "    \"Euler a\": \"Anime, manga, vibrant colors, fantasy, cel-shading, expressive characters\",\n",
    "    \"DDIM\": \"Dreamy, abstract, concept art, surreal, artistic effects\"\n",
    "}"
   ]
  },
  {
   "cell_type": "code",
   "execution_count": 4,
   "id": "38b87003-129b-4765-8df3-367c363a2b8f",
   "metadata": {},
   "outputs": [],
   "source": [
    "# Function to predict the best sampler using CLIP\n",
    "def suggest_sampler_clip(prompt):\n",
    "    text_inputs = clip.tokenize([prompt] + list(sampler_descriptions.values())).to(device)\n",
    "    with torch.no_grad():\n",
    "        text_features = model.encode_text(text_inputs)\n",
    "    \n",
    "    prompt_embedding = text_features[0]  # The input prompt\n",
    "    sampler_embeddings = text_features[1:]  # The sampler descriptions\n",
    "    \n",
    "    # Compute cosine similarity\n",
    "    similarities = torch.nn.functional.cosine_similarity(prompt_embedding.unsqueeze(0), sampler_embeddings)\n",
    "    best_match_idx = similarities.argmax().item()\n",
    "    \n",
    "    return list(sampler_descriptions.keys())[best_match_idx]"
   ]
  },
  {
   "cell_type": "code",
   "execution_count": 7,
   "id": "6f2afcf6-6ed9-455d-a2a0-853238834423",
   "metadata": {},
   "outputs": [],
   "source": [
    "# Example usage\n",
    "prompt_text = \"kimi no na wa., building, cityscape, cloud, cloudy sky, gradient sky, lens flare, no humans, outdoors, power lines, scenery, shooting star, sky, sparkle, star \\(sky\\), starry sky, sunset, tree, utility pole\"\n",
    "best_sampler = suggest_sampler_clip(prompt_text)"
   ]
  },
  {
   "cell_type": "code",
   "execution_count": 8,
   "id": "5d8ef054-d11e-452b-a26c-40b03dabbcbc",
   "metadata": {},
   "outputs": [
    {
     "name": "stdout",
     "output_type": "stream",
     "text": [
      "Suggested Sampler: Euler a\n"
     ]
    }
   ],
   "source": [
    "print(\"Suggested Sampler:\", best_sampler)"
   ]
  },
  {
   "cell_type": "code",
   "execution_count": null,
   "id": "484b91ae-9baa-42df-98ad-dd1176c0dc17",
   "metadata": {},
   "outputs": [],
   "source": []
  }
 ],
 "metadata": {
  "kernelspec": {
   "display_name": "Python 3 (ipykernel)",
   "language": "python",
   "name": "python3"
  },
  "language_info": {
   "codemirror_mode": {
    "name": "ipython",
    "version": 3
   },
   "file_extension": ".py",
   "mimetype": "text/x-python",
   "name": "python",
   "nbconvert_exporter": "python",
   "pygments_lexer": "ipython3",
   "version": "3.10.14"
  }
 },
 "nbformat": 4,
 "nbformat_minor": 5
}
