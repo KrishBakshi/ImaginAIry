{
 "cells": [
  {
   "cell_type": "code",
   "execution_count": 16,
   "id": "c2036fdb-3630-40b3-bc6f-cabea99a4a8e",
   "metadata": {},
   "outputs": [],
   "source": [
    "import re"
   ]
  },
  {
   "cell_type": "code",
   "execution_count": 17,
   "id": "ff859d3b-c686-4d08-98fe-7fb505843231",
   "metadata": {},
   "outputs": [],
   "source": [
    "# Define sampler categories based on content\n",
    "sampler_mapping = {\n",
    "    \"DPM++ 2M Karras\": [r\"\\b(portrait|face|skin texture|cinematic|expressions)\\b\"],\n",
    "    \"DPM++ SDE Karras\": [r\"\\b(realistic|photorealistic|HDR|ultra-HD|hyper-detailed|sharp)\\b\"],\n",
    "    \"DPM++ 2M SDE Karras\": [r\"\\b(hyper-realistic|extreme detail|lighting effects|cinema-like|depth)\\b\"],\n",
    "    \"Euler\": [r\"\\b(illustration|sketch|drawing|balanced|natural colors)\\b\"],\n",
    "    \"Euler a\": [r\"\\b(anime|manga|cartoon|fantasy|cel-shading|chibi|vibrant)\\b\"],\n",
    "    \"DDIM\": [r\"\\b(concept art|dreamy|abstract|soft glow|impressionist|experimental)\\b\"]\n",
    "}"
   ]
  },
  {
   "cell_type": "code",
   "execution_count": 18,
   "id": "96b77e10-8964-4d56-9132-ee56cf9fc057",
   "metadata": {},
   "outputs": [],
   "source": [
    "# Score for each sampler\n",
    "score = {}"
   ]
  },
  {
   "cell_type": "code",
   "execution_count": 20,
   "id": "d345fd72-eb27-443b-a59b-294c01bce8d6",
   "metadata": {},
   "outputs": [],
   "source": [
    "# Function to match prompt to best sampler\n",
    "def suggest_sampler(prompt):\n",
    "    prompt = prompt.lower()\n",
    "    for sampler, patterns in sampler_mapping.items():\n",
    "        for pattern in patterns:\n",
    "            if re.search(pattern, prompt):\n",
    "                return sampler"
   ]
  },
  {
   "cell_type": "code",
   "execution_count": 11,
   "id": "371403c7-9058-4c82-8aa9-1753d003d44a",
   "metadata": {},
   "outputs": [],
   "source": [
    "# Example usage\n",
    "prompt_text = \"kimi no na wa., building, cityscape, cloud, cloudy sky, gradient sky, lens flare, no humans, outdoors, power lines, scenery, shooting star, sky, sparkle, star \\(sky\\), starry sky, sunset, tree, utility pole\"\n",
    "best_sampler = suggest_sampler(prompt_text)"
   ]
  },
  {
   "cell_type": "code",
   "execution_count": 12,
   "id": "afd75390-0506-4892-8c93-eb2502b4563e",
   "metadata": {},
   "outputs": [
    {
     "name": "stdout",
     "output_type": "stream",
     "text": [
      "Suggested Sampler: None\n"
     ]
    }
   ],
   "source": [
    "print(\"Suggested Sampler:\", best_sampler)"
   ]
  },
  {
   "cell_type": "code",
   "execution_count": null,
   "id": "52a9df25-2f65-438f-8d23-42ec6d651ccd",
   "metadata": {},
   "outputs": [],
   "source": []
  }
 ],
 "metadata": {
  "kernelspec": {
   "display_name": "Python 3 (ipykernel)",
   "language": "python",
   "name": "python3"
  },
  "language_info": {
   "codemirror_mode": {
    "name": "ipython",
    "version": 3
   },
   "file_extension": ".py",
   "mimetype": "text/x-python",
   "name": "python",
   "nbconvert_exporter": "python",
   "pygments_lexer": "ipython3",
   "version": "3.10.14"
  }
 },
 "nbformat": 4,
 "nbformat_minor": 5
}
