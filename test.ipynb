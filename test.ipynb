{
 "cells": [
  {
   "cell_type": "code",
   "execution_count": 1,
   "metadata": {},
   "outputs": [],
   "source": [
    "from diffusers.models import AutoencoderKL\n",
    "from diffusers import StableDiffusionXLPipeline, StableDiffusionXLImg2ImgPipeline"
   ]
  },
  {
   "cell_type": "code",
   "execution_count": 3,
   "metadata": {},
   "outputs": [],
   "source": [
    "import torch"
   ]
  },
  {
   "cell_type": "code",
   "execution_count": 4,
   "metadata": {},
   "outputs": [
    {
     "data": {
      "text/plain": [
       "True"
      ]
     },
     "execution_count": 4,
     "metadata": {},
     "output_type": "execute_result"
    }
   ],
   "source": [
    "torch.cuda.is_available()"
   ]
  },
  {
   "cell_type": "code",
   "execution_count": 5,
   "metadata": {},
   "outputs": [
    {
     "data": {
      "text/plain": [
       "'NVIDIA GeForce RTX 3060 Laptop GPU'"
      ]
     },
     "execution_count": 5,
     "metadata": {},
     "output_type": "execute_result"
    }
   ],
   "source": [
    "torch.cuda.get_device_name()"
   ]
  },
  {
   "cell_type": "code",
   "execution_count": 6,
   "metadata": {},
   "outputs": [],
   "source": [
    "import os"
   ]
  },
  {
   "cell_type": "code",
   "execution_count": 7,
   "metadata": {},
   "outputs": [],
   "source": [
    "# os.environ[\"MODEL\"] = \"C:/Users/ASUS/.cache/huggingface/hub/models--cagliostrolab--animagine-xl-3.1\""
   ]
  },
  {
   "cell_type": "code",
   "execution_count": 8,
   "metadata": {},
   "outputs": [],
   "source": [
    "# HF_TOKEN = ''"
   ]
  },
  {
   "cell_type": "code",
   "execution_count": 9,
   "metadata": {},
   "outputs": [],
   "source": [
    "import logging"
   ]
  },
  {
   "cell_type": "code",
   "execution_count": 10,
   "metadata": {},
   "outputs": [],
   "source": [
    "logger = logging.getLogger(__name__)"
   ]
  },
  {
   "cell_type": "code",
   "execution_count": 11,
   "metadata": {},
   "outputs": [],
   "source": [
    "def load_pipeline(model_name):\n",
    "    vae = AutoencoderKL.from_pretrained(\n",
    "        \"madebyollin/sdxl-vae-fp16-fix\",\n",
    "        torch_dtype=torch.float16,\n",
    "    )\n",
    "    pipeline = (\n",
    "        StableDiffusionXLPipeline.from_single_file\n",
    "        if MODEL.endswith(\".safetensors\")\n",
    "        else StableDiffusionXLPipeline.from_pretrained\n",
    "    )\n",
    "    \n",
    "    pipe = pipeline(\n",
    "        model_name,\n",
    "        vae=vae,\n",
    "        torch_dtype=torch.float16,\n",
    "        custom_pipeline=\"lpw_stable_diffusion_xl\",\n",
    "        use_safetensors=True,\n",
    "        add_watermarker=False,\n",
    "        use_auth_token=HF_TOKEN,\n",
    "    )\n",
    "\n",
    "    pipe.to('cuda')\n",
    "    return pipe\n"
   ]
  },
  {
   "cell_type": "code",
   "execution_count": 12,
   "metadata": {},
   "outputs": [],
   "source": [
    "MODEL = \"cagliostrolab/animagine-xl-3.1\""
   ]
  },
  {
   "cell_type": "code",
   "execution_count": 1,
   "metadata": {},
   "outputs": [
    {
     "ename": "NameError",
     "evalue": "name 'torch' is not defined",
     "output_type": "error",
     "traceback": [
      "\u001b[1;31m---------------------------------------------------------------------------\u001b[0m",
      "\u001b[1;31mNameError\u001b[0m                                 Traceback (most recent call last)",
      "Cell \u001b[1;32mIn[1], line 1\u001b[0m\n\u001b[1;32m----> 1\u001b[0m \u001b[38;5;28;01mif\u001b[39;00m \u001b[43mtorch\u001b[49m\u001b[38;5;241m.\u001b[39mcuda\u001b[38;5;241m.\u001b[39mis_available():\n\u001b[0;32m      2\u001b[0m    pipe \u001b[38;5;241m=\u001b[39m load_pipeline(MODEL)\n\u001b[0;32m      3\u001b[0m    pipe\u001b[38;5;241m.\u001b[39mto(\u001b[38;5;124m'\u001b[39m\u001b[38;5;124mcuda\u001b[39m\u001b[38;5;124m'\u001b[39m)\n",
      "\u001b[1;31mNameError\u001b[0m: name 'torch' is not defined"
     ]
    }
   ],
   "source": [
    " if torch.cuda.is_available():\n",
    "    pipe = load_pipeline(MODEL)\n",
    "    pipe.to('cuda')\n",
    "    logger.info(\"Loaded on Device!\")\n",
    "    "
   ]
  },
  {
   "cell_type": "code",
   "execution_count": 14,
   "metadata": {},
   "outputs": [],
   "source": [
    "def free_memory():\n",
    "    if torch.cuda.is_available():\n",
    "        torch.cuda.empty_cache()\n",
    "        torch.cuda.synchronize()"
   ]
  },
  {
   "cell_type": "code",
   "execution_count": 19,
   "metadata": {},
   "outputs": [],
   "source": [
    "import torch\n",
    "import json\n",
    "import utils\n",
    "import time"
   ]
  },
  {
   "cell_type": "code",
   "execution_count": null,
   "metadata": {},
   "outputs": [
    {
     "name": "stderr",
     "output_type": "stream",
     "text": [
      "<timed exec>:11: FutureWarning: `torch.cuda.amp.autocast(args...)` is deprecated. Please use `torch.amp.autocast('cuda', args...)` instead.\n",
      "Token indices sequence length is longer than the specified maximum sequence length for this model (84 > 77). Running this sequence through the model will result in indexing errors\n",
      "Token indices sequence length is longer than the specified maximum sequence length for this model (84 > 77). Running this sequence through the model will result in indexing errors\n"
     ]
    },
    {
     "data": {
      "application/vnd.jupyter.widget-view+json": {
       "model_id": "cd131b4112f645ebbbb34d6b67454ee0",
       "version_major": 2,
       "version_minor": 0
      },
      "text/plain": [
       "  0%|          | 0/20 [00:00<?, ?it/s]"
      ]
     },
     "metadata": {},
     "output_type": "display_data"
    }
   ],
   "source": [
    "%%time\n",
    "def simple_generate(prompt, pipe, device='cuda'):\n",
    "    # if torch.cuda.is_available() and device == 'cuda':\n",
    "    #     pipe = load_pipeline(model)\n",
    "    #     logger.info(\"Loaded on Device!\")\n",
    "    # else:\n",
    "    #     logger.error(\"CUDA is not available. The model cannot be tested on CPU.\")\n",
    "    #     return\n",
    "\n",
    "    try:\n",
    "         # Enable mixed precision for faster inference\n",
    "        with torch.cuda.amp.autocast():\n",
    "            # Generate images\n",
    "            result = pipe(prompt=prompt, num_inference_steps=20, guidance_scale=7.5)\n",
    "            images = result.images\n",
    "\n",
    "\n",
    "        # Save images with unique filenames\n",
    "        image_paths = []\n",
    "        timestamp = int(time.time())\n",
    "        for i, image in enumerate(images):\n",
    "            path = f\"generated_image_{timestamp}_{i}.png\"\n",
    "            image.save(path)\n",
    "            image_paths.append(path)\n",
    "            logger.info(f\"Generated image saved at: {path}\")\n",
    "\n",
    "        return image_paths\n",
    "\n",
    "    except Exception as e:\n",
    "        logger.exception(f\"An error occurred: {e}\")\n",
    "        raise\n",
    "    finally:\n",
    "        free_memory()\n",
    "\n",
    "# Example usage\n",
    "if __name__ == \"__main__\":\n",
    "    prompt = \"A detailed 3D model of a character inspired by Paimon from Genshin Impact, designed for a transparent background. The character should feature short, silvery-white hair, star-themed motifs, and an elegant celestial outfit in white, blue, and gold. Render the model in a floating pose with arms open and a cheerful expression. Ensure no background elements are present, leaving the background completely transparent (alpha channel).\"\n",
    "\n",
    "    image_paths = simple_generate(prompt, pipe)\n",
    "    for path in image_paths:\n",
    "        print(f\"Generated image saved at: {path}\")"
   ]
  },
  {
   "cell_type": "code",
   "execution_count": null,
   "metadata": {},
   "outputs": [],
   "source": []
  },
  {
   "cell_type": "code",
   "execution_count": null,
   "metadata": {},
   "outputs": [],
   "source": []
  }
 ],
 "metadata": {
  "kernelspec": {
   "display_name": "ocr_env",
   "language": "python",
   "name": "python3"
  },
  "language_info": {
   "codemirror_mode": {
    "name": "ipython",
    "version": 3
   },
   "file_extension": ".py",
   "mimetype": "text/x-python",
   "name": "python",
   "nbconvert_exporter": "python",
   "pygments_lexer": "ipython3",
   "version": "3.10.14"
  }
 },
 "nbformat": 4,
 "nbformat_minor": 4
}
